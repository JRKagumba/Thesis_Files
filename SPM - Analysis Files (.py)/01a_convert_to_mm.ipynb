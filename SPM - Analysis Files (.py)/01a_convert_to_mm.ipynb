{
 "cells": [
  {
   "cell_type": "code",
   "execution_count": null,
   "metadata": {},
   "outputs": [],
   "source": [
    "import os\n",
    "import pandas as pd\n",
    "import shutil "
   ]
  },
  {
   "cell_type": "code",
   "execution_count": null,
   "metadata": {},
   "outputs": [],
   "source": [
    "\n",
    "count=0\n",
    "\n",
    "xsens_processed =r\"E:\\Data\\Jarrod_Thesis\\Individual_XSEN\\processed_data\"\n",
    "# norax_processed =r\"E:\\Data\\Jarrod_Thesis\\Noraxon\\processed_data\"\n",
    "\n",
    "for (root,dirs,files) in os.walk(xsens_processed, topdown=False):\n",
    "    # print (root)\n",
    "    # print (dirs)\n",
    "\n",
    "    for file in files:\n",
    "        file_path=os.path.join(root,file)\n",
    "        file_name=file[:-4]\n",
    "\n",
    "        if 'COM' in file_path:\n",
    "            # if 'mm' in file:\n",
    "            # if ('mm' in file_name) or ('image' in file_name):\n",
    "            #     try:\n",
    "            #         os.remove(os.path.join(root,file))\n",
    "            #         print(f\"{os.path.join(root,file)} has been removed\")\n",
    "            #     except:\n",
    "            #         print(f\"Error removing {os.path.join(root,file)}\")\n",
    "                # shutil.rmtree(os.path.join(root,file), ignore_errors=True)\n",
    "                \n",
    "            convert_xsens_com_to_mm(file_path,file_name,root)\n",
    "            print(f\"{file_path[-35:]} has been converted\")\n",
    "\n",
    "        # print (os.path.join(root,dirs,files))\n",
    "\n",
    "    print ('----------------------------------------------------')\n",
    "    # count+=1\n",
    "    # if count>=1:\n",
    "    #     break"
   ]
  },
  {
   "cell_type": "code",
   "execution_count": null,
   "metadata": {},
   "outputs": [],
   "source": [
    "def convert_xsens_com_to_mm(file_path,file_name,root):\n",
    "    \"\"\"\n",
    "    Purpose of function:\n",
    "    -convert COM data to (mm)\n",
    "    -convert column name to add (mm)\n",
    "    \"\"\"\n",
    "\n",
    "\n",
    "    # file_path=r\"E:\\Data\\Jarrod_Thesis\\Xsens\\processed_data\\S01\\T02\\COM\\CoM pos z\\CoM pos z.csv\"\n",
    "\n",
    "    data =pd.read_csv(file_path).iloc[:, 1:]\n",
    "    data =data*1000\n",
    "\n",
    "    column_names_dict={column:f\"{column}_(mm)\" for column in data.columns}\n",
    "    data=data.rename(columns=column_names_dict)\n",
    "\n",
    "    converted_file_name=os.path.join(root,f\"{file_name}_(mm).csv\")\n",
    "    data.to_csv(converted_file_name)\n"
   ]
  },
  {
   "cell_type": "code",
   "execution_count": null,
   "metadata": {},
   "outputs": [],
   "source": [
    "\n"
   ]
  },
  {
   "cell_type": "code",
   "execution_count": null,
   "metadata": {},
   "outputs": [],
   "source": []
  }
 ],
 "metadata": {
  "interpreter": {
   "hash": "c543a0a8d78370d5d5f7f6eca405d0a8e4ac3df93d3f544c29eb0cbbdc6e4903"
  },
  "kernelspec": {
   "display_name": "Python 3.9.7 ('Biomechanical_Analysis')",
   "language": "python",
   "name": "python3"
  },
  "language_info": {
   "codemirror_mode": {
    "name": "ipython",
    "version": 3
   },
   "file_extension": ".py",
   "mimetype": "text/x-python",
   "name": "python",
   "nbconvert_exporter": "python",
   "pygments_lexer": "ipython3",
   "version": "3.9.7"
  },
  "orig_nbformat": 4
 },
 "nbformat": 4,
 "nbformat_minor": 2
}
